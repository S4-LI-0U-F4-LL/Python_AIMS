{
 "cells": [
  {
   "cell_type": "markdown",
   "metadata": {},
   "source": [
    "## Exercice\n"
   ]
  },
  {
   "cell_type": "markdown",
   "metadata": {},
   "source": [
    "### Question 1"
   ]
  },
  {
   "cell_type": "code",
   "execution_count": 21,
   "metadata": {},
   "outputs": [
    {
     "name": "stdout",
     "output_type": "stream",
     "text": [
      "Enter an integer: 5\n",
      "4\n",
      "10\n",
      "10\n"
     ]
    }
   ],
   "source": [
    "n = int(input(\"Enter an integer: \"))\n",
    "summ=0\n",
    "i=0\n",
    "while i<=n-1:\n",
    "    if i%2!=0:\n",
    "        summ+=i+3\n",
    "        print (summ)\n",
    "    i+=1\n",
    "\n",
    "print(summ)   "
   ]
  },
  {
   "cell_type": "code",
   "execution_count": 22,
   "metadata": {},
   "outputs": [
    {
     "name": "stdout",
     "output_type": "stream",
     "text": [
      "Enter an integer: 5\n",
      "3\n",
      "15\n",
      "105\n",
      "105\n"
     ]
    }
   ],
   "source": [
    "n = int(input(\"Enter an integer: \"))\n",
    "prod=1\n",
    "i=0\n",
    "while i<=n-1:\n",
    "    if i%2==0:\n",
    "        prod*=i+3\n",
    "        print (prod)\n",
    "    i+=1\n",
    "\n",
    "print(prod)   "
   ]
  },
  {
   "cell_type": "markdown",
   "metadata": {},
   "source": [
    "### Question 2"
   ]
  },
  {
   "cell_type": "code",
   "execution_count": 42,
   "metadata": {
    "scrolled": true
   },
   "outputs": [
    {
     "name": "stdout",
     "output_type": "stream",
     "text": [
      "Enter an integer(0...6): 56\n",
      "Enter an integer(0...6): 76\n",
      "Enter an integer(0...6): 7\n",
      "Enter an integer(0...6): 0\n",
      "working day\n"
     ]
    }
   ],
   "source": [
    "def condition(n):\n",
    "    if n<0 or n >6:\n",
    "        return False\n",
    "    else:\n",
    "        return True\n",
    "while True:\n",
    "  n = int(input(\"Enter an integer(0...6): \"))\n",
    "  if condition(n)==True :\n",
    "        break\n",
    "\n",
    "if n>=0 and n <=4:\n",
    "    print (\"working day\")\n",
    "else:\n",
    "    print(\"week end\")"
   ]
  },
  {
   "cell_type": "markdown",
   "metadata": {},
   "source": [
    "### Question 3\n"
   ]
  },
  {
   "cell_type": "code",
   "execution_count": 48,
   "metadata": {},
   "outputs": [
    {
     "name": "stdout",
     "output_type": "stream",
     "text": [
      "Enter an integer(0...11): 45\n",
      "Enter an integer(0...11): 23\n",
      "Enter an integer(0...11): -5\n",
      "Enter an integer(0...11): 5\n",
      "month: 30 days\n"
     ]
    }
   ],
   "source": [
    "def condition(month):\n",
    "    if month<0 or month >11:\n",
    "        return False\n",
    "    else:\n",
    "        return True\n",
    "\n",
    "while True:\n",
    "  month = int(input(\"Enter an integer(0...11): \"))\n",
    "  if condition(month)==True :\n",
    "        break\n",
    "\n",
    "if month == 1:\n",
    "    print(\"month: 28 days\")\n",
    "elif month == 0 or month ==2 or month ==4 or month ==6 or month ==7 or month ==9 or month ==11:\n",
    "    print(\"month: 31 days\")\n",
    "    \n",
    "else:\n",
    "    print(\"month: 30 days\")\n"
   ]
  },
  {
   "cell_type": "markdown",
   "metadata": {},
   "source": [
    "### Question 4"
   ]
  },
  {
   "cell_type": "code",
   "execution_count": 53,
   "metadata": {},
   "outputs": [
    {
     "name": "stdout",
     "output_type": "stream",
     "text": [
      "saliou\n",
      "saliou\n",
      "saliou\n",
      "--------------------------------------------------\n",
      "saliou\n",
      "saliou\n",
      "saliou\n"
     ]
    }
   ],
   "source": [
    "for i in range(0,3):\n",
    "    print(\"saliou\")\n",
    "print(\"-\"*50)\n",
    "i=0\n",
    "while i<3:\n",
    "    print(\"saliou\")\n",
    "    i+=1\n"
   ]
  },
  {
   "cell_type": "markdown",
   "metadata": {},
   "source": [
    "### Question 5"
   ]
  },
  {
   "cell_type": "code",
   "execution_count": 76,
   "metadata": {},
   "outputs": [
    {
     "name": "stdout",
     "output_type": "stream",
     "text": [
      "Enter integer a0 2\n",
      "Enter integer a1 4\n",
      "Enter integer n 15\n",
      "6\n",
      "10\n",
      "16\n",
      "26\n",
      "42\n",
      "68\n",
      "110\n",
      "178\n",
      "288\n",
      "466\n",
      "754\n",
      "1220\n",
      "1974\n",
      "3194\n",
      "5168\n",
      "5168\n"
     ]
    }
   ],
   "source": [
    "a0=int(input(\"Enter integer a0 \"))\n",
    "a1=int(input(\"Enter integer a1 \"))\n",
    "n=int(input(\"Enter integer n \"))\n",
    "i=1\n",
    "An=0\n",
    "while i<=n:\n",
    "    An=a1+a0\n",
    "    print (An)\n",
    "    a0=a1\n",
    "    a1=An\n",
    "    i+=1\n",
    "print(An)\n",
    "    \n"
   ]
  },
  {
   "cell_type": "markdown",
   "metadata": {},
   "source": [
    "### Question6"
   ]
  },
  {
   "cell_type": "code",
   "execution_count": 82,
   "metadata": {},
   "outputs": [
    {
     "name": "stdout",
     "output_type": "stream",
     "text": [
      "Enter integer x0 2\n",
      "Enter integer x1 4\n",
      "Enter integer n 30\n",
      "8.0\n",
      "16.0\n",
      "32.0\n",
      "64.0\n",
      "128.0\n",
      "256.0\n",
      "512.0\n",
      "1024.0\n",
      "2048.0\n",
      "4096.0\n",
      "8192.0\n",
      "16384.0\n",
      "32768.0\n",
      "65536.0\n",
      "131072.0\n",
      "262144.0\n",
      "524288.0\n",
      "1048576.0\n",
      "2097152.0\n",
      "4194304.0\n",
      "8388608.0\n",
      "16777216.0\n",
      "33554432.0\n",
      "67108864.0\n",
      "134217728.0\n",
      "268435456.0\n",
      "536870912.0\n",
      "1073741824.0\n",
      "2147483648.0\n",
      "4294967296.0\n",
      "4294967296.0\n"
     ]
    }
   ],
   "source": [
    "# if you take x=0 x=4 you have all integer tower 2\n",
    "\n",
    "x0=int(input(\"Enter integer x0 \"))\n",
    "x1=int(input(\"Enter integer x1 \"))\n",
    "n=int(input(\"Enter integer n \"))\n",
    "\n",
    "i=1\n",
    "Xn=0\n",
    "while i<=n:\n",
    "    Xn=1/2*(x1+6*x0)\n",
    "    print (Xn)\n",
    "    x0=x1\n",
    "    x1=Xn\n",
    "    i+=1\n",
    "print(Xn)"
   ]
  },
  {
   "cell_type": "markdown",
   "metadata": {},
   "source": [
    "### Question 7"
   ]
  },
  {
   "cell_type": "markdown",
   "metadata": {},
   "source": []
  },
  {
   "cell_type": "code",
   "execution_count": 88,
   "metadata": {},
   "outputs": [
    {
     "name": "stdout",
     "output_type": "stream",
     "text": [
      "Enter a year 2020\n",
      "we have leap year\n"
     ]
    }
   ],
   "source": [
    "# if year is leap it divided by 4 not by 100 or the year is divided by 400\n",
    "year=int(input(\"Enter a year \"))\n",
    "if year%4==0 and year%100!=0:\n",
    "    print(\"we have leap year\")\n",
    "else:\n",
    "    print(\"no leap year\")\n",
    "\n"
   ]
  },
  {
   "cell_type": "markdown",
   "metadata": {},
   "source": [
    "### Question 8"
   ]
  },
  {
   "cell_type": "markdown",
   "metadata": {},
   "source": [
    "#### a)"
   ]
  },
  {
   "cell_type": "code",
   "execution_count": 97,
   "metadata": {},
   "outputs": [
    {
     "name": "stdout",
     "output_type": "stream",
     "text": [
      "Enter integer n 5\n",
      "30\n"
     ]
    }
   ],
   "source": [
    "n=int(input(\"Enter integer n \"))\n",
    "summ=0\n",
    "for i in range(n):\n",
    "    summ+=pow(i,2)\n",
    "print(summ)"
   ]
  },
  {
   "cell_type": "code",
   "execution_count": 99,
   "metadata": {},
   "outputs": [
    {
     "name": "stdout",
     "output_type": "stream",
     "text": [
      "Enter integer n 5\n",
      "30\n"
     ]
    }
   ],
   "source": [
    "n=int(input(\"Enter integer n \"))\n",
    "summ=0\n",
    "i=0\n",
    "while  i < n:\n",
    "    summ+=pow(i,2)\n",
    "    i+=1\n",
    "print(summ)"
   ]
  },
  {
   "cell_type": "markdown",
   "metadata": {},
   "source": [
    "\n",
    "#### b)"
   ]
  },
  {
   "cell_type": "code",
   "execution_count": 117,
   "metadata": {
    "scrolled": true
   },
   "outputs": [
    {
     "name": "stdout",
     "output_type": "stream",
     "text": [
      "Enter integer M 5\n",
      "( 0 , 0 )\n",
      "( 1 , 1 )\n",
      "( 2 , 5 )\n",
      "( 3 , 14 )\n",
      "3\n"
     ]
    }
   ],
   "source": [
    "M=int(input(\"Enter integer M \"))\n",
    "summ=0\n",
    "n=0\n",
    "while True:\n",
    "    summ+=pow(n,2)\n",
    "    print('(',n,',',summ,')')\n",
    "    if summ>M:\n",
    "        break\n",
    "    n+=1\n",
    "print(n)"
   ]
  },
  {
   "cell_type": "markdown",
   "metadata": {},
   "source": [
    "### Question 9\n"
   ]
  },
  {
   "cell_type": "markdown",
   "metadata": {},
   "source": [
    "#### a)"
   ]
  },
  {
   "cell_type": "code",
   "execution_count": 124,
   "metadata": {
    "scrolled": true
   },
   "outputs": [
    {
     "name": "stdout",
     "output_type": "stream",
     "text": [
      "Enter integer n 100\n",
      "2 is a divisor of 100\n",
      "4 is a divisor of 100\n",
      "5 is a divisor of 100\n",
      "10 is a divisor of 100\n",
      "20 is a divisor of 100\n",
      "25 is a divisor of 100\n",
      "50 is a divisor of 100\n"
     ]
    }
   ],
   "source": [
    "n=int(input(\"Enter integer n \"))\n",
    "i=2\n",
    "while i<=n/2:\n",
    "    if n%i==0:\n",
    "        print(i,'is a divisor of',n )\n",
    "    i+=1\n",
    "\n"
   ]
  },
  {
   "cell_type": "markdown",
   "metadata": {},
   "source": [
    "#### b)"
   ]
  },
  {
   "cell_type": "code",
   "execution_count": 131,
   "metadata": {},
   "outputs": [
    {
     "name": "stdout",
     "output_type": "stream",
     "text": [
      "Enter integer n 100\n",
      "2 is a prime factore of 100\n",
      "5 is a prime factore of 100\n"
     ]
    }
   ],
   "source": [
    "n=int(input(\"Enter integer n \"))\n",
    "\n",
    "\n",
    "def prime(n):\n",
    "    count=0\n",
    "    i=2\n",
    "    while i<=n/2:\n",
    "        if n%i==0:\n",
    "            count+=1\n",
    "        i+=1\n",
    "    if count == 0:\n",
    "        return True\n",
    "    else: \n",
    "        return False\n",
    "    \n",
    "i=2\n",
    "while i<=n/2:\n",
    "    if n%i==0:\n",
    "        if prime(i)==True:\n",
    "            print(i,'is a prime factore of',n)\n",
    "    i+=1\n"
   ]
  },
  {
   "cell_type": "markdown",
   "metadata": {},
   "source": [
    "### Question 10"
   ]
  },
  {
   "cell_type": "code",
   "execution_count": 139,
   "metadata": {},
   "outputs": [
    {
     "name": "stdout",
     "output_type": "stream",
     "text": [
      "Enter an integer(0...9): 2\n",
      "Enter integer N 20\n",
      "  0   2   4   6   8  10  12  14  16  18  20  22  24  26  28  30  32  34  36  38 "
     ]
    }
   ],
   "source": [
    "def condition(n):\n",
    "    if n<0 or n >9:\n",
    "        return False\n",
    "    else:\n",
    "        return True\n",
    "while True:\n",
    "    n = int(input(\"Enter an integer(0...9): \"))\n",
    "    if condition(n)==True :\n",
    "        break\n",
    "\n",
    "N=int(input(\"Enter integer N \"))\n",
    "for i in range(N):\n",
    "    print(\" %2d\"%(i*n), end=' ') \n",
    "\n"
   ]
  },
  {
   "cell_type": "markdown",
   "metadata": {},
   "source": [
    "### Question 11"
   ]
  },
  {
   "cell_type": "code",
   "execution_count": 3,
   "metadata": {},
   "outputs": [
    {
     "name": "stdout",
     "output_type": "stream",
     "text": [
      "0\n",
      "3\n",
      "6\n",
      "7\n",
      "9\n",
      "11\n",
      "12\n",
      "14\n",
      "15\n",
      "18\n",
      "21\n",
      "22\n",
      "24\n",
      "27\n",
      "28\n",
      "30\n",
      "33\n",
      "35\n",
      "36\n",
      "39\n"
     ]
    }
   ],
   "source": [
    "for i in range(40):\n",
    "    if i%3==0 or i%7==0 or i%11==0:\n",
    "        print(i)\n"
   ]
  },
  {
   "cell_type": "markdown",
   "metadata": {},
   "source": [
    "### Question 12"
   ]
  },
  {
   "cell_type": "code",
   "execution_count": 9,
   "metadata": {},
   "outputs": [
    {
     "data": {
      "text/plain": [
       "45"
      ]
     },
     "execution_count": 9,
     "metadata": {},
     "output_type": "execute_result"
    }
   ],
   "source": [
    "f=45.6577895\n",
    "int(f)"
   ]
  },
  {
   "cell_type": "markdown",
   "metadata": {},
   "source": [
    "### Question 13\n"
   ]
  },
  {
   "cell_type": "code",
   "execution_count": 18,
   "metadata": {},
   "outputs": [
    {
     "name": "stdout",
     "output_type": "stream",
     "text": [
      "x coordinate: 3\n",
      " y coordinate: 5\n",
      "1st quadrant\n",
      "x coordinate: 0\n",
      " y coordinate: 0\n",
      " origin\n",
      "x coordinate: -4\n",
      " y coordinate: -5\n",
      "3st quadrant\n"
     ]
    },
    {
     "ename": "KeyboardInterrupt",
     "evalue": "",
     "output_type": "error",
     "traceback": [
      "\u001b[0;31m---------------------------------------------------------------------------\u001b[0m",
      "\u001b[0;31mKeyboardInterrupt\u001b[0m                         Traceback (most recent call last)",
      "\u001b[0;32m/anaconda3/lib/python3.7/site-packages/ipykernel/kernelbase.py\u001b[0m in \u001b[0;36m_input_request\u001b[0;34m(self, prompt, ident, parent, password)\u001b[0m\n\u001b[1;32m    877\u001b[0m             \u001b[0;32mtry\u001b[0m\u001b[0;34m:\u001b[0m\u001b[0;34m\u001b[0m\u001b[0;34m\u001b[0m\u001b[0m\n\u001b[0;32m--> 878\u001b[0;31m                 \u001b[0mident\u001b[0m\u001b[0;34m,\u001b[0m \u001b[0mreply\u001b[0m \u001b[0;34m=\u001b[0m \u001b[0mself\u001b[0m\u001b[0;34m.\u001b[0m\u001b[0msession\u001b[0m\u001b[0;34m.\u001b[0m\u001b[0mrecv\u001b[0m\u001b[0;34m(\u001b[0m\u001b[0mself\u001b[0m\u001b[0;34m.\u001b[0m\u001b[0mstdin_socket\u001b[0m\u001b[0;34m,\u001b[0m \u001b[0;36m0\u001b[0m\u001b[0;34m)\u001b[0m\u001b[0;34m\u001b[0m\u001b[0;34m\u001b[0m\u001b[0m\n\u001b[0m\u001b[1;32m    879\u001b[0m             \u001b[0;32mexcept\u001b[0m \u001b[0mException\u001b[0m\u001b[0;34m:\u001b[0m\u001b[0;34m\u001b[0m\u001b[0;34m\u001b[0m\u001b[0m\n",
      "\u001b[0;32m/anaconda3/lib/python3.7/site-packages/jupyter_client/session.py\u001b[0m in \u001b[0;36mrecv\u001b[0;34m(self, socket, mode, content, copy)\u001b[0m\n\u001b[1;32m    802\u001b[0m         \u001b[0;32mtry\u001b[0m\u001b[0;34m:\u001b[0m\u001b[0;34m\u001b[0m\u001b[0;34m\u001b[0m\u001b[0m\n\u001b[0;32m--> 803\u001b[0;31m             \u001b[0mmsg_list\u001b[0m \u001b[0;34m=\u001b[0m \u001b[0msocket\u001b[0m\u001b[0;34m.\u001b[0m\u001b[0mrecv_multipart\u001b[0m\u001b[0;34m(\u001b[0m\u001b[0mmode\u001b[0m\u001b[0;34m,\u001b[0m \u001b[0mcopy\u001b[0m\u001b[0;34m=\u001b[0m\u001b[0mcopy\u001b[0m\u001b[0;34m)\u001b[0m\u001b[0;34m\u001b[0m\u001b[0;34m\u001b[0m\u001b[0m\n\u001b[0m\u001b[1;32m    804\u001b[0m         \u001b[0;32mexcept\u001b[0m \u001b[0mzmq\u001b[0m\u001b[0;34m.\u001b[0m\u001b[0mZMQError\u001b[0m \u001b[0;32mas\u001b[0m \u001b[0me\u001b[0m\u001b[0;34m:\u001b[0m\u001b[0;34m\u001b[0m\u001b[0;34m\u001b[0m\u001b[0m\n",
      "\u001b[0;32m/anaconda3/lib/python3.7/site-packages/zmq/sugar/socket.py\u001b[0m in \u001b[0;36mrecv_multipart\u001b[0;34m(self, flags, copy, track)\u001b[0m\n\u001b[1;32m    469\u001b[0m         \"\"\"\n\u001b[0;32m--> 470\u001b[0;31m         \u001b[0mparts\u001b[0m \u001b[0;34m=\u001b[0m \u001b[0;34m[\u001b[0m\u001b[0mself\u001b[0m\u001b[0;34m.\u001b[0m\u001b[0mrecv\u001b[0m\u001b[0;34m(\u001b[0m\u001b[0mflags\u001b[0m\u001b[0;34m,\u001b[0m \u001b[0mcopy\u001b[0m\u001b[0;34m=\u001b[0m\u001b[0mcopy\u001b[0m\u001b[0;34m,\u001b[0m \u001b[0mtrack\u001b[0m\u001b[0;34m=\u001b[0m\u001b[0mtrack\u001b[0m\u001b[0;34m)\u001b[0m\u001b[0;34m]\u001b[0m\u001b[0;34m\u001b[0m\u001b[0;34m\u001b[0m\u001b[0m\n\u001b[0m\u001b[1;32m    471\u001b[0m         \u001b[0;31m# have first part already, only loop while more to receive\u001b[0m\u001b[0;34m\u001b[0m\u001b[0;34m\u001b[0m\u001b[0;34m\u001b[0m\u001b[0m\n",
      "\u001b[0;32mzmq/backend/cython/socket.pyx\u001b[0m in \u001b[0;36mzmq.backend.cython.socket.Socket.recv\u001b[0;34m()\u001b[0m\n",
      "\u001b[0;32mzmq/backend/cython/socket.pyx\u001b[0m in \u001b[0;36mzmq.backend.cython.socket.Socket.recv\u001b[0;34m()\u001b[0m\n",
      "\u001b[0;32mzmq/backend/cython/socket.pyx\u001b[0m in \u001b[0;36mzmq.backend.cython.socket._recv_copy\u001b[0;34m()\u001b[0m\n",
      "\u001b[0;32m/anaconda3/lib/python3.7/site-packages/zmq/backend/cython/checkrc.pxd\u001b[0m in \u001b[0;36mzmq.backend.cython.checkrc._check_rc\u001b[0;34m()\u001b[0m\n",
      "\u001b[0;31mKeyboardInterrupt\u001b[0m: ",
      "\nDuring handling of the above exception, another exception occurred:\n",
      "\u001b[0;31mKeyboardInterrupt\u001b[0m                         Traceback (most recent call last)",
      "\u001b[0;32m<ipython-input-18-1dca4da5a53f>\u001b[0m in \u001b[0;36m<module>\u001b[0;34m\u001b[0m\n\u001b[1;32m      1\u001b[0m \u001b[0;34m\u001b[0m\u001b[0m\n\u001b[1;32m      2\u001b[0m \u001b[0;32mwhile\u001b[0m \u001b[0;32mTrue\u001b[0m\u001b[0;34m:\u001b[0m\u001b[0;34m\u001b[0m\u001b[0;34m\u001b[0m\u001b[0m\n\u001b[0;32m----> 3\u001b[0;31m     \u001b[0mx\u001b[0m\u001b[0;34m,\u001b[0m\u001b[0my\u001b[0m \u001b[0;34m=\u001b[0m \u001b[0mint\u001b[0m\u001b[0;34m(\u001b[0m\u001b[0minput\u001b[0m\u001b[0;34m(\u001b[0m\u001b[0;34m\"x coordinate: \"\u001b[0m\u001b[0;34m)\u001b[0m\u001b[0;34m)\u001b[0m\u001b[0;34m,\u001b[0m\u001b[0mint\u001b[0m\u001b[0;34m(\u001b[0m\u001b[0minput\u001b[0m\u001b[0;34m(\u001b[0m\u001b[0;34m\" y coordinate: \"\u001b[0m\u001b[0;34m)\u001b[0m\u001b[0;34m)\u001b[0m\u001b[0;34m\u001b[0m\u001b[0;34m\u001b[0m\u001b[0m\n\u001b[0m\u001b[1;32m      4\u001b[0m     \u001b[0;32mif\u001b[0m \u001b[0mx\u001b[0m\u001b[0;34m>\u001b[0m\u001b[0;36m0\u001b[0m \u001b[0;32mand\u001b[0m \u001b[0my\u001b[0m\u001b[0;34m>\u001b[0m\u001b[0;36m0\u001b[0m\u001b[0;34m:\u001b[0m\u001b[0;34m\u001b[0m\u001b[0;34m\u001b[0m\u001b[0m\n\u001b[1;32m      5\u001b[0m         \u001b[0mprint\u001b[0m\u001b[0;34m(\u001b[0m\u001b[0;34m\"1st quadrant\"\u001b[0m\u001b[0;34m)\u001b[0m\u001b[0;34m\u001b[0m\u001b[0;34m\u001b[0m\u001b[0m\n",
      "\u001b[0;32m/anaconda3/lib/python3.7/site-packages/ipykernel/kernelbase.py\u001b[0m in \u001b[0;36mraw_input\u001b[0;34m(self, prompt)\u001b[0m\n\u001b[1;32m    851\u001b[0m             \u001b[0mself\u001b[0m\u001b[0;34m.\u001b[0m\u001b[0m_parent_ident\u001b[0m\u001b[0;34m,\u001b[0m\u001b[0;34m\u001b[0m\u001b[0;34m\u001b[0m\u001b[0m\n\u001b[1;32m    852\u001b[0m             \u001b[0mself\u001b[0m\u001b[0;34m.\u001b[0m\u001b[0m_parent_header\u001b[0m\u001b[0;34m,\u001b[0m\u001b[0;34m\u001b[0m\u001b[0;34m\u001b[0m\u001b[0m\n\u001b[0;32m--> 853\u001b[0;31m             \u001b[0mpassword\u001b[0m\u001b[0;34m=\u001b[0m\u001b[0;32mFalse\u001b[0m\u001b[0;34m,\u001b[0m\u001b[0;34m\u001b[0m\u001b[0;34m\u001b[0m\u001b[0m\n\u001b[0m\u001b[1;32m    854\u001b[0m         )\n\u001b[1;32m    855\u001b[0m \u001b[0;34m\u001b[0m\u001b[0m\n",
      "\u001b[0;32m/anaconda3/lib/python3.7/site-packages/ipykernel/kernelbase.py\u001b[0m in \u001b[0;36m_input_request\u001b[0;34m(self, prompt, ident, parent, password)\u001b[0m\n\u001b[1;32m    881\u001b[0m             \u001b[0;32mexcept\u001b[0m \u001b[0mKeyboardInterrupt\u001b[0m\u001b[0;34m:\u001b[0m\u001b[0;34m\u001b[0m\u001b[0;34m\u001b[0m\u001b[0m\n\u001b[1;32m    882\u001b[0m                 \u001b[0;31m# re-raise KeyboardInterrupt, to truncate traceback\u001b[0m\u001b[0;34m\u001b[0m\u001b[0;34m\u001b[0m\u001b[0;34m\u001b[0m\u001b[0m\n\u001b[0;32m--> 883\u001b[0;31m                 \u001b[0;32mraise\u001b[0m \u001b[0mKeyboardInterrupt\u001b[0m\u001b[0;34m\u001b[0m\u001b[0;34m\u001b[0m\u001b[0m\n\u001b[0m\u001b[1;32m    884\u001b[0m             \u001b[0;32melse\u001b[0m\u001b[0;34m:\u001b[0m\u001b[0;34m\u001b[0m\u001b[0;34m\u001b[0m\u001b[0m\n\u001b[1;32m    885\u001b[0m                 \u001b[0;32mbreak\u001b[0m\u001b[0;34m\u001b[0m\u001b[0;34m\u001b[0m\u001b[0m\n",
      "\u001b[0;31mKeyboardInterrupt\u001b[0m: "
     ]
    }
   ],
   "source": [
    "\n",
    "while True:\n",
    "    x,y = int(input(\"x coordinate: \")),int(input(\" y coordinate: \"))\n",
    "    if x>0 and y>0:\n",
    "        print(\"1st quadrant\")\n",
    "    if x>0 and y<0:\n",
    "        print(\"4st quadrant\")\n",
    "    if x<0 and y>0:\n",
    "        print(\"2st quadrant\")\n",
    "    if x<0 and y<0:\n",
    "        print(\"3st quadrant\")\n",
    "    if x==0 and y==0:\n",
    "        print(\" origin\")\n",
    "    if x==0 and y!=0:\n",
    "        print(\"oY axis\")\n",
    "    if x!=0 and y==0:\n",
    "        print(\" oX axis\")\n",
    "\n"
   ]
  },
  {
   "cell_type": "markdown",
   "metadata": {},
   "source": [
    "### Question 14"
   ]
  },
  {
   "cell_type": "code",
   "execution_count": 28,
   "metadata": {},
   "outputs": [
    {
     "name": "stdout",
     "output_type": "stream",
     "text": [
      "Enter a integer(0...10): 10\n",
      "Enter a integer(0...10): -5\n",
      "Enter a integer(0...10): 7\n",
      "Enter a integer(0...256): 433\n",
      "Enter a integer(0...256): -7\n",
      "Enter a integer(0...256): 100\n",
      "the multiple of  7\n",
      "0\n",
      "7\n",
      "14\n",
      "21\n",
      "28\n",
      "35\n",
      "42\n",
      "49\n",
      "56\n",
      "63\n",
      "70\n",
      "77\n",
      "84\n",
      "91\n",
      "98\n"
     ]
    }
   ],
   "source": [
    "def condition1(n):\n",
    "    if n<0 or n >=10:\n",
    "        return False\n",
    "    else:\n",
    "        return True\n",
    "    \n",
    "def condition2(n):\n",
    "    if n<0 or n >=256:\n",
    "        return False\n",
    "    else:\n",
    "        return True\n",
    "\n",
    "while True:\n",
    "    x = int(input(\"Enter a integer(0...10): \"))\n",
    "    if condition1(x)==True :\n",
    "        break\n",
    "\n",
    "while True:\n",
    "    xmax = int(input(\"Enter a integer(0...256): \"))\n",
    "    if condition2(xmax)==True :\n",
    "        break\n",
    "print(\"the multiple of \",x)\n",
    "for i in range(xmax):\n",
    "    if i%x==0:\n",
    "        print(i)"
   ]
  },
  {
   "cell_type": "code",
   "execution_count": null,
   "metadata": {},
   "outputs": [],
   "source": []
  }
 ],
 "metadata": {
  "kernelspec": {
   "display_name": "Python 3",
   "language": "python",
   "name": "python3"
  },
  "language_info": {
   "codemirror_mode": {
    "name": "ipython",
    "version": 3
   },
   "file_extension": ".py",
   "mimetype": "text/x-python",
   "name": "python",
   "nbconvert_exporter": "python",
   "pygments_lexer": "ipython3",
   "version": "3.7.3"
  }
 },
 "nbformat": 4,
 "nbformat_minor": 2
}
