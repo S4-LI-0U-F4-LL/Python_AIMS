{
 "cells": [
  {
   "cell_type": "markdown",
   "metadata": {},
   "source": [
    "# Functions & Recursions"
   ]
  },
  {
   "cell_type": "markdown",
   "metadata": {},
   "source": [
    "## Question 1"
   ]
  },
  {
   "cell_type": "code",
   "execution_count": 10,
   "metadata": {},
   "outputs": [
    {
     "name": "stdout",
     "output_type": "stream",
     "text": [
      "Enter X 4\n",
      "Enter Y 87\n",
      "-4.441404819912951e+26\n"
     ]
    }
   ],
   "source": [
    "from math import sqrt,sin\n",
    "\n",
    "x=int(input(\"Enter X \"))\n",
    "y=int(input(\"Enter Y \"))\n",
    "\n",
    "print(sqrt(pow(x,y+2))/((1/x)+2*sin(y)))"
   ]
  },
  {
   "cell_type": "markdown",
   "metadata": {},
   "source": [
    "## Question 2"
   ]
  },
  {
   "cell_type": "code",
   "execution_count": 17,
   "metadata": {},
   "outputs": [
    {
     "name": "stdout",
     "output_type": "stream",
     "text": [
      "Enter integer b 6\n",
      "Enter power n 6\n"
     ]
    },
    {
     "data": {
      "text/plain": [
       "46656"
      ]
     },
     "execution_count": 17,
     "metadata": {},
     "output_type": "execute_result"
    }
   ],
   "source": [
    "def ownpowerfn(b,n):\n",
    "    prod=1\n",
    "    for i in range(n):\n",
    "        prod*=b\n",
    "    return prod\n",
    "\n",
    "b=int(input(\"Enter integer b \"))\n",
    "n=int(input(\"Enter power n \"))  \n",
    "ownpowerfn(b,n)"
   ]
  },
  {
   "cell_type": "markdown",
   "metadata": {},
   "source": [
    "## Question 3"
   ]
  },
  {
   "cell_type": "markdown",
   "metadata": {},
   "source": [
    "### a)"
   ]
  },
  {
   "cell_type": "code",
   "execution_count": 5,
   "metadata": {},
   "outputs": [
    {
     "name": "stdout",
     "output_type": "stream",
     "text": [
      "Enter X 4\n",
      "Enter Y 5\n"
     ]
    },
    {
     "data": {
      "text/plain": [
       "(4.5, 4.47213595499958)"
      ]
     },
     "execution_count": 5,
     "metadata": {},
     "output_type": "execute_result"
    }
   ],
   "source": [
    "from math import sqrt\n",
    "def arithmetic_mean(x,y):\n",
    "    return (x+y)/2\n",
    "def geometric_mean(x,y):\n",
    "    return sqrt(x*y)\n",
    "x=int(input(\"Enter X \"))\n",
    "y=int(input(\"Enter Y \"))\n",
    "arithmetic_mean(x,y),geometric_mean(x,y)\n",
    "\n"
   ]
  },
  {
   "cell_type": "markdown",
   "metadata": {},
   "source": [
    "### b)"
   ]
  },
  {
   "cell_type": "code",
   "execution_count": 19,
   "metadata": {},
   "outputs": [
    {
     "name": "stdout",
     "output_type": "stream",
     "text": [
      "Enter X 4\n"
     ]
    },
    {
     "data": {
      "text/plain": [
       "4.0"
      ]
     },
     "execution_count": 19,
     "metadata": {},
     "output_type": "execute_result"
    }
   ],
   "source": [
    "def celcius_to_fahrenheit(c):\n",
    "    return c*9/5 +32 \n",
    "def fahrenheit_to_celcius(f):\n",
    "    return (f-32)*5/9\n",
    "x=int(input(\"Enter X \"))\n",
    "celcius_to_fahrenheit(fahrenheit_to_celcius(x))"
   ]
  },
  {
   "cell_type": "markdown",
   "metadata": {},
   "source": [
    "### c)"
   ]
  },
  {
   "cell_type": "code",
   "execution_count": 22,
   "metadata": {},
   "outputs": [
    {
     "name": "stdout",
     "output_type": "stream",
     "text": [
      "Enter X 5\n"
     ]
    },
    {
     "data": {
      "text/plain": [
       "5.000000000000001"
      ]
     },
     "execution_count": 22,
     "metadata": {},
     "output_type": "execute_result"
    }
   ],
   "source": [
    "pi=3.14\n",
    "def degrees_to_radians(d):\n",
    "    return (pi*d)/180\n",
    "\n",
    "def radians_to_degrees(r):\n",
    "    return (r*180)/pi\n",
    "x=int(input(\"Enter X \"))\n",
    "degrees_to_radians(radians_to_degrees(x))"
   ]
  },
  {
   "cell_type": "markdown",
   "metadata": {},
   "source": [
    "### d)"
   ]
  },
  {
   "cell_type": "code",
   "execution_count": 25,
   "metadata": {},
   "outputs": [
    {
     "name": "stdout",
     "output_type": "stream",
     "text": [
      "Enter a float 5\n"
     ]
    },
    {
     "data": {
      "text/plain": [
       "31.400000000000002"
      ]
     },
     "execution_count": 25,
     "metadata": {},
     "output_type": "execute_result"
    }
   ],
   "source": [
    "pi=3.14\n",
    "def circumference(r):\n",
    "    return 2*pi*r\n",
    "x=int(input(\"Enter a float \"))\n",
    "circumference(x)"
   ]
  },
  {
   "cell_type": "markdown",
   "metadata": {},
   "source": [
    "### Question 4"
   ]
  },
  {
   "cell_type": "markdown",
   "metadata": {},
   "source": [
    "### a)"
   ]
  },
  {
   "cell_type": "code",
   "execution_count": 6,
   "metadata": {},
   "outputs": [
    {
     "name": "stdout",
     "output_type": "stream",
     "text": [
      "Enter a float 5\n",
      "Enter a float 4\n"
     ]
    }
   ],
   "source": [
    "\n",
    "x=int(input(\"Enter a float \"))\n",
    "y=int(input(\"Enter a float \"))\n",
    "m1=arithmetic_mean(x,y)\n",
    "m2=geometric_mean(x,y)\n",
    "\n",
    "def avggeom(m1,m2):\n",
    "    for i in range(10):\n",
    "        temp=m1\n",
    "        m1=arithmetic_mean(m1,m2)\n",
    "        m2=geometric_mean(temp,m2)\n",
    "    return m1,m2\n"
   ]
  },
  {
   "cell_type": "code",
   "execution_count": 7,
   "metadata": {},
   "outputs": [
    {
     "data": {
      "text/plain": [
       "(4.486057160575205, 4.486057160575206)"
      ]
     },
     "execution_count": 7,
     "metadata": {},
     "output_type": "execute_result"
    }
   ],
   "source": [
    "avggeom(m1,m2)"
   ]
  },
  {
   "cell_type": "markdown",
   "metadata": {},
   "source": [
    "### b)"
   ]
  },
  {
   "cell_type": "code",
   "execution_count": 9,
   "metadata": {},
   "outputs": [
    {
     "name": "stdout",
     "output_type": "stream",
     "text": [
      "Enter a float x1 2\n",
      "Enter a float y1 4\n",
      "Enter a float x2 5\n",
      "Enter a float y2 6\n"
     ]
    },
    {
     "data": {
      "text/plain": [
       "3.605551275463989"
      ]
     },
     "execution_count": 9,
     "metadata": {},
     "output_type": "execute_result"
    }
   ],
   "source": [
    "x1=int(input(\"Enter a float x1 \"))\n",
    "y1=int(input(\"Enter a float y1 \"))\n",
    "\n",
    "x2=int(input(\"Enter a float x2 \"))\n",
    "y2=int(input(\"Enter a float y2 \"))\n",
    "\n",
    "\n",
    "def distance_point(x1,x2,y1,y2):\n",
    "    return sqrt(pow(x2-x1,2) + pow(y2-y1,2))\n",
    "\n",
    "\n",
    "distance_point(x1,x2,y1,y2)\n",
    "\n"
   ]
  },
  {
   "cell_type": "code",
   "execution_count": 12,
   "metadata": {},
   "outputs": [
    {
     "name": "stdout",
     "output_type": "stream",
     "text": [
      "Enter a float x1 4\n",
      "Enter a float y1 6\n",
      "Enter a float x2 3\n",
      "Enter a float y2 5\n",
      "Enter a float x3 2\n",
      "Enter a float y3 8\n",
      "perimeter is 7.404918347287666\n",
      "area  is 2.0000000000000013\n"
     ]
    }
   ],
   "source": [
    "x1=int(input(\"Enter a float x1 \"))\n",
    "y1=int(input(\"Enter a float y1 \"))\n",
    "\n",
    "x2=int(input(\"Enter a float x2 \"))\n",
    "y2=int(input(\"Enter a float y2 \"))\n",
    "\n",
    "x3=int(input(\"Enter a float x3 \"))\n",
    "y3=int(input(\"Enter a float y3 \"))\n",
    "\n",
    "a=distance_point(x1,x2,y1,y2)\n",
    "b=distance_point(x1,x3,y1,y3)\n",
    "c=distance_point(x3,x2,y3,y2)\n",
    "p=(a+b+c)/2\n",
    "\n",
    "print(\"perimeter is\",a+b+c)\n",
    "print(\"area  is\",sqrt(p*(p-a)*(p-b)*(p-c)))"
   ]
  },
  {
   "cell_type": "markdown",
   "metadata": {},
   "source": [
    "## Question 5 "
   ]
  },
  {
   "cell_type": "code",
   "execution_count": 27,
   "metadata": {},
   "outputs": [],
   "source": [
    "import math\n",
    "def factorial(n):\n",
    "    if n==0:\n",
    "        return 1\n",
    "    else:\n",
    "        return n*factorial(n-1)\n",
    "def scond_deg(a,b,c):\n",
    "    delta=pow(b,2)-4*a*c\n",
    "    if delta > 0:\n",
    "        print(\"x1=\",sqrt(-b-delta)/(2*a))\n",
    "        print(\"x2=\",sqrt(-b+delta)/(2*a))\n",
    "    if delta==0:\n",
    "        print(\"x0=\",-b/(2*a))\n",
    "    if delta < 0:\n",
    "        print(\"error\")\n",
    "def exit():\n",
    "    print(\"!!!!!exit!!!!\")\n",
    "    \n",
    "def fact2nddeg():\n",
    "    choise=x1=int(input(\"Tape 1 for compute factorial or 2 for scond degre or other to exit\"))\n",
    "    if choise==1:\n",
    "        n=int(input(\"Factorial!!!! \\n Enter n\"))\n",
    "        print(\"factoriel\",n,\"is\",factorial(n))\n",
    "    if choise == 2:\n",
    "        a=int(input(\"2nddeg!!!! \\n Enter a\"))\n",
    "        b=int(input(\" Enter b\"))\n",
    "        c=int(input(\" Enter c\"))\n",
    "        scond_deg(a,b,c)\n",
    "    print(\"Do you wants to exit \")\n",
    "    resp=input(\"tape \\\"y\\\" to exit or \\\"n\\\" to continues\")\n",
    "    if resp==\"y\":\n",
    "        exit()\n",
    "    else:\n",
    "        fact2nddeg()\n",
    "    "
   ]
  },
  {
   "cell_type": "code",
   "execution_count": 28,
   "metadata": {},
   "outputs": [
    {
     "name": "stdout",
     "output_type": "stream",
     "text": [
      "Tape 1 for compute factorial or 2 for scond degre or other to exit11\n",
      "Do you wants to exit \n",
      "tape \"y\" to exit or \"n\" to continuesn\n",
      "Tape 1 for compute factorial or 2 for scond degre or other to exit1\n",
      "Factorial!!!! \n",
      " Enter n5\n",
      "factoriel 5 is 120\n",
      "Do you wants to exit \n",
      "tape \"y\" to exit or \"n\" to continuesn\n",
      "Tape 1 for compute factorial or 2 for scond degre or other to exit2\n",
      "2nddeg!!!! \n",
      " Enter a1\n",
      " Enter b3\n",
      " Enter c4\n",
      "error\n",
      "Do you wants to exit \n",
      "tape \"y\" to exit or \"n\" to continuesy\n",
      "!!!!!exit!!!!\n"
     ]
    }
   ],
   "source": [
    "fact2nddeg()"
   ]
  },
  {
   "cell_type": "markdown",
   "metadata": {},
   "source": [
    "## Question 6"
   ]
  },
  {
   "cell_type": "code",
   "execution_count": 29,
   "metadata": {},
   "outputs": [],
   "source": [
    "def power(x,n):\n",
    "    if n==0:\n",
    "        return 1\n",
    "    else:\n",
    "        return x*power(x,n-1)\n"
   ]
  },
  {
   "cell_type": "code",
   "execution_count": 30,
   "metadata": {},
   "outputs": [
    {
     "data": {
      "text/plain": [
       "8"
      ]
     },
     "execution_count": 30,
     "metadata": {},
     "output_type": "execute_result"
    }
   ],
   "source": [
    "power(2,3)"
   ]
  },
  {
   "cell_type": "markdown",
   "metadata": {},
   "source": [
    "## Question 7"
   ]
  },
  {
   "cell_type": "code",
   "execution_count": 37,
   "metadata": {},
   "outputs": [],
   "source": [
    "def fib(n):\n",
    "    if n == 0 or n == 1:\n",
    "        return n\n",
    "    else:\n",
    "        return fib(n - 1) + fib(n - 2)"
   ]
  },
  {
   "cell_type": "code",
   "execution_count": 44,
   "metadata": {},
   "outputs": [
    {
     "data": {
      "text/plain": [
       "832040"
      ]
     },
     "execution_count": 44,
     "metadata": {},
     "output_type": "execute_result"
    }
   ],
   "source": [
    "fib(30)"
   ]
  },
  {
   "cell_type": "code",
   "execution_count": null,
   "metadata": {},
   "outputs": [],
   "source": []
  }
 ],
 "metadata": {
  "kernelspec": {
   "display_name": "Python 3",
   "language": "python",
   "name": "python3"
  },
  "language_info": {
   "codemirror_mode": {
    "name": "ipython",
    "version": 3
   },
   "file_extension": ".py",
   "mimetype": "text/x-python",
   "name": "python",
   "nbconvert_exporter": "python",
   "pygments_lexer": "ipython3",
   "version": "3.7.3"
  }
 },
 "nbformat": 4,
 "nbformat_minor": 2
}
