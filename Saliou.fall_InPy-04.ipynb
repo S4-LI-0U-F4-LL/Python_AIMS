{
 "cells": [
  {
   "cell_type": "markdown",
   "metadata": {},
   "source": [
    "# Football World Cup competition"
   ]
  },
  {
   "cell_type": "markdown",
   "metadata": {},
   "source": [
    "## (a)"
   ]
  },
  {
   "cell_type": "code",
   "execution_count": 1,
   "metadata": {},
   "outputs": [],
   "source": [
    "\n",
    "def has_won(team,result):\n",
    "    if result[1]>result[3] and team == result[0] or result[1]<result[3] and team == result[2] :\n",
    "        return True\n",
    "    else:\n",
    "        return False\n",
    "    \n",
    "def has_lost(team,result):\n",
    "        if result[1]<result[3] and team == result[0] or result[1]>result[3] and team == result[2]:\n",
    "            return True\n",
    "        else:\n",
    "            return False\n",
    "        \n",
    "def has_drawn(team,result):\n",
    "        if result[1]==result[3] and (team == result[0] or team == result[2])  :\n",
    "            return True\n",
    "        else:\n",
    "            return False\n",
    "        \n",
    "def goals_for(team,result):\n",
    "        if team== result[0]:\n",
    "            return result[1]\n",
    "        elif team== result[2]:\n",
    "            return result[3]\n",
    "        else:\n",
    "            return 0\n",
    "\n",
    "def goals_agianst(team,result):\n",
    "        if team == result[0]:\n",
    "            return result[3]\n",
    "        elif team== result[2]:\n",
    "            return result[1]\n",
    "        else:\n",
    "            return 0"
   ]
  },
  {
   "cell_type": "code",
   "execution_count": 2,
   "metadata": {},
   "outputs": [
    {
     "data": {
      "text/plain": [
       "4"
      ]
     },
     "execution_count": 2,
     "metadata": {},
     "output_type": "execute_result"
    }
   ],
   "source": [
    "goals_for('paris',('barca',3,'paris',4))"
   ]
  },
  {
   "cell_type": "markdown",
   "metadata": {},
   "source": [
    "## (b)"
   ]
  },
  {
   "cell_type": "code",
   "execution_count": 3,
   "metadata": {},
   "outputs": [],
   "source": [
    "def get_stats(team,liste):\n",
    "    ''' P The number of matches played by this team;\n",
    "        W The number of matches won by this team;\n",
    "        D The number of matches drawn by this team;\n",
    "        L The number of matches lost by this team;\n",
    "        F The number of goals scored for this team;\n",
    "        A The number of goals scored against this team;\n",
    "        GA The goal diference for this team: the diference between goals for and goals against;\n",
    "        Pts The number of points earned by this team: three points earned for a win, and one point\n",
    "        for a draw.\n",
    "    '''\n",
    "    p=0\n",
    "    w=0\n",
    "    d=0\n",
    "    l=0\n",
    "    f=0\n",
    "    a=0\n",
    "    \n",
    "    for i in range(len(liste)):\n",
    "        p+=(liste[i].count(team))\n",
    "        if has_won(team,liste[i])== True:\n",
    "            w+=1\n",
    "        if has_drawn(team,liste[i])== True:\n",
    "            d+=1\n",
    "        if has_lost(team,liste[i])== True:\n",
    "            l+=1\n",
    "        f+=goals_for(team,liste[i])\n",
    "        a+=goals_agianst(team,liste[i])\n",
    "\n",
    "    GA=f-a\n",
    "    \n",
    "    Pts=3*w+d\n",
    "    return (team,p,w,d,l,f,a,GA,Pts)\n",
    "    \n",
    "    "
   ]
  },
  {
   "cell_type": "code",
   "execution_count": 4,
   "metadata": {},
   "outputs": [],
   "source": [
    "liste=[['barca',1,'real',2],['real',2,'juventus',2],['barca',4,'liverpool',0],['barca',2,'paris',4]]"
   ]
  },
  {
   "cell_type": "code",
   "execution_count": 5,
   "metadata": {},
   "outputs": [
    {
     "data": {
      "text/plain": [
       "('real', 2, 1, 1, 0, 4, 3, 1, 4)"
      ]
     },
     "execution_count": 5,
     "metadata": {},
     "output_type": "execute_result"
    }
   ],
   "source": [
    "get_stats('real',liste)"
   ]
  },
  {
   "cell_type": "markdown",
   "metadata": {},
   "source": [
    "## (c)"
   ]
  },
  {
   "cell_type": "code",
   "execution_count": 6,
   "metadata": {},
   "outputs": [],
   "source": [
    "def get_all_stats(liste_team,liste_result):\n",
    "    all_stats=[]\n",
    "    for team in liste_team:\n",
    "        all_stats.append(get_stats(team,liste_result))\n",
    "\n",
    "    for i in range(len(all_stats)-1):\n",
    "        if all_stats[i][8] < all_stats[i+1][8]:\n",
    "            temp= all_stats[i]\n",
    "            all_stats[i]=all_stats[i+1]\n",
    "            all_stats[i+1]=temp\n",
    "            \n",
    "    for i in range(len(all_stats)-1):\n",
    "        if (all_stats[i][8] == all_stats[i+1][8]) and (all_stats[i][7] < all_stats[i+1][7]):\n",
    "            temp= all_stats[i]\n",
    "            all_stats[i]=all_stats[i+1]\n",
    "            all_stats[i+1]=temp\n",
    "    \n",
    "    return all_stats\n",
    "\n",
    "        "
   ]
  },
  {
   "cell_type": "code",
   "execution_count": 7,
   "metadata": {},
   "outputs": [
    {
     "data": {
      "text/plain": [
       "[('real', 2, 1, 1, 0, 4, 3, 1, 4),\n",
       " ('paris', 1, 1, 0, 0, 4, 2, 2, 3),\n",
       " ('barca', 3, 1, 0, 2, 7, 6, 1, 3),\n",
       " ('juventus', 1, 0, 1, 0, 2, 2, 0, 1)]"
      ]
     },
     "execution_count": 7,
     "metadata": {},
     "output_type": "execute_result"
    }
   ],
   "source": [
    "all_stats=get_all_stats(['barca','real','juventus','paris'],liste)\n",
    "all_stats"
   ]
  },
  {
   "cell_type": "markdown",
   "metadata": {},
   "source": [
    "## (d)"
   ]
  },
  {
   "cell_type": "code",
   "execution_count": 8,
   "metadata": {},
   "outputs": [],
   "source": [
    "def show_table(all_stats):\n",
    "    print(63*'-')\n",
    "    print(\"| {:10s} | {:3s} | {:3s} | {:3s} | {:3s} | {:3s} | {:3s} | {:3s} | {:4s} |\"\n",
    "            .format('team','P','W','D','L','F','A','GA','Pts'))\n",
    "    print(63*'-')\n",
    "    \n",
    "    for i in range(len(all_stats)):\n",
    "        print(\"| {:10s} | {:3d} | {:3d} | {:3d} | {:3d} | {:3d} | {:3d} | {:3d} | {:4d} |\"\n",
    "            .format(all_stats[i][0],\n",
    "                all_stats[i][1],\n",
    "                all_stats[i][2],\n",
    "                all_stats[i][3],\n",
    "                all_stats[i][4],\n",
    "                all_stats[i][5],\n",
    "                all_stats[i][6],\n",
    "                all_stats[i][7],\n",
    "                all_stats[i][8],))\n",
    "        print(63*'-')\n",
    "\n"
   ]
  },
  {
   "cell_type": "code",
   "execution_count": 9,
   "metadata": {},
   "outputs": [
    {
     "name": "stdout",
     "output_type": "stream",
     "text": [
      "---------------------------------------------------------------\n",
      "| team       | P   | W   | D   | L   | F   | A   | GA  | Pts  |\n",
      "---------------------------------------------------------------\n",
      "| real       |   2 |   1 |   1 |   0 |   4 |   3 |   1 |    4 |\n",
      "---------------------------------------------------------------\n",
      "| paris      |   1 |   1 |   0 |   0 |   4 |   2 |   2 |    3 |\n",
      "---------------------------------------------------------------\n",
      "| barca      |   3 |   1 |   0 |   2 |   7 |   6 |   1 |    3 |\n",
      "---------------------------------------------------------------\n",
      "| juventus   |   1 |   0 |   1 |   0 |   2 |   2 |   0 |    1 |\n",
      "---------------------------------------------------------------\n"
     ]
    }
   ],
   "source": [
    "show_table(all_stats)"
   ]
  },
  {
   "cell_type": "code",
   "execution_count": 10,
   "metadata": {},
   "outputs": [],
   "source": [
    "def make_table(team_liste,result_liste):\n",
    "    all_stats=get_all_stats(team_liste,result_liste)\n",
    "    show_table(all_stats)\n",
    "\n"
   ]
  },
  {
   "cell_type": "code",
   "execution_count": 14,
   "metadata": {},
   "outputs": [
    {
     "name": "stdout",
     "output_type": "stream",
     "text": [
      "---------------------------------------------------------------\n",
      "| team       | P   | W   | D   | L   | F   | A   | GA  | Pts  |\n",
      "---------------------------------------------------------------\n",
      "| Senegal    |   3 |   2 |   1 |   0 |   9 |   3 |   6 |    7 |\n",
      "---------------------------------------------------------------\n",
      "| Espagne    |   3 |   1 |   2 |   0 |   4 |   3 |   1 |    5 |\n",
      "---------------------------------------------------------------\n",
      "| France     |   3 |   1 |   1 |   1 |   2 |   5 |  -3 |    4 |\n",
      "---------------------------------------------------------------\n",
      "| Usa        |   3 |   0 |   0 |   3 |   1 |   5 |  -4 |    0 |\n",
      "---------------------------------------------------------------\n"
     ]
    }
   ],
   "source": [
    "result_liste=[['Senegal',2,'Espagne',2],['France',1,'Usa',0],\n",
    "              ['Senegal',5,'France',1],['Espagne',2,'Usa',1],\n",
    "              ['Senegal',2,'Usa',0],['Espagne',0,'France',0],\n",
    "             ]\n",
    "team_liste=['Senegal','France','Espagne','Usa']\n",
    "make_table(team_liste,result_liste)"
   ]
  },
  {
   "cell_type": "code",
   "execution_count": null,
   "metadata": {},
   "outputs": [],
   "source": []
  }
 ],
 "metadata": {
  "kernelspec": {
   "display_name": "Python 3",
   "language": "python",
   "name": "python3"
  },
  "language_info": {
   "codemirror_mode": {
    "name": "ipython",
    "version": 3
   },
   "file_extension": ".py",
   "mimetype": "text/x-python",
   "name": "python",
   "nbconvert_exporter": "python",
   "pygments_lexer": "ipython3",
   "version": "3.7.3"
  }
 },
 "nbformat": 4,
 "nbformat_minor": 2
}
