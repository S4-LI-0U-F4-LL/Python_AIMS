{
 "cells": [
  {
   "cell_type": "raw",
   "metadata": {},
   "source": [
    "Group 3\n",
    "Samuel OLANIYI\n",
    "Balbine Olive MBOUA ETOGA\n",
    "Saliou FALL\n",
    "Thierno Bassirou BALDE\n",
    "Nokeme MEITE\n"
   ]
  },
  {
   "cell_type": "raw",
   "metadata": {},
   "source": [
    "The project that generate automatically an ID for a student. \n",
    "This program request first, if you want to register a student and asked for the first name and the last name. It's generte the two sequence by firt_sequence(), second_sequence() function; and then concatenate it, after that its search in the file if the student is register or not. if not register it generate an ID for the new student and give  a digit to distinguish the register student from the newly register stundent.    "
   ]
  },
  {
   "cell_type": "code",
   "execution_count": null,
   "metadata": {},
   "outputs": [],
   "source": []
  },
  {
   "cell_type": "code",
   "execution_count": null,
   "metadata": {},
   "outputs": [],
   "source": []
  },
  {
   "cell_type": "code",
   "execution_count": 11,
   "metadata": {},
   "outputs": [],
   "source": [
    "import pickle\n",
    "liste = { \"firt_name\":[], \"last_name\":[] ,\"firt_and_two_seq\":[],\"id\":[]} \n",
    "pickle.dump( liste, open( \"save.p\", \"wb\" ) )\n",
    "\n",
    "\n",
    "def firt_sequence(name):\n",
    "    consone='bcdfghjklmnpqrstvwxzBCDFGHJKLMNPQRSTVWXZ'\n",
    "    firt_seq=''\n",
    "    for i in name:\n",
    "         if len(firt_seq)<3:\n",
    "            if (i in consone) == True:\n",
    "                firt_seq+=i\n",
    "    if len(firt_seq)<3:\n",
    "        firt_seq+='x'*(3-len(firt_seq))\n",
    "    return firt_seq.upper()\n",
    "\n",
    "    \n",
    "def scond_sequence(name):\n",
    "    if len(name)<3:\n",
    "        name+='x'*(3-len(name))\n",
    "        return name.upper()\n",
    "    else:\n",
    "        return name[:3].upper()\n",
    "\n",
    "def save(firt_name,last_name,firt_and_two_seq,identifiant):\n",
    "    pickle.dump( liste, open( \"save.p\", \"wb\" ) )\n",
    "    print(liste)\n",
    "    print(liste['firt_and_two_seq'])\n",
    "    liste['firt_name'].append(firt_name)\n",
    "    liste['last_name'].append(last_name)\n",
    "    liste['firt_and_two_seq'].append(firt_and_two_seq)\n",
    "    liste['id'].append(identifiant)\n",
    "    print(liste)\n",
    "    print('firt name          last name          id \\n\\n')\n",
    "    for i in range(len(liste['firt_name'])):\n",
    "        print(liste['firt_name'][i],'          ',liste['last_name'][i],'          ',liste['id'][i],'\\n')\n",
    "\n",
    "\n",
    "def main():\n",
    "    print(\"Do you wants to Enter an other student\\n\\n \")\n",
    "    resp=input(\"tape \\\"n\\\" to exit or \\\"y\\\" to continues\")\n",
    "    if resp==\"y\":\n",
    "        name_firt=input(\"Enter firt name \")\n",
    "        name_last=input(\"Enter last name \")\n",
    "        firt_and_two_seq=firt_sequence(name_firt)+scond_sequence(name_last)\n",
    "        \n",
    "        index=liste['firt_and_two_seq'].count(firt_and_two_seq)\n",
    "        if index==0:\n",
    "            identifiant=firt_and_two_seq+'001'\n",
    "        else:\n",
    "            identifiant=firt_and_two_seq+'{:03}'.format(index+1)\n",
    "            \n",
    "        save(name_firt,name_last,firt_and_two_seq,identifiant)\n",
    "        main()\n",
    "    else:\n",
    "        print('tao!!!!')\n",
    "        "
   ]
  },
  {
   "cell_type": "code",
   "execution_count": null,
   "metadata": {
    "scrolled": true
   },
   "outputs": [
    {
     "name": "stdout",
     "output_type": "stream",
     "text": [
      "Do you wants to Enter an other student\n",
      "\n",
      " \n",
      "tape \"n\" to exit or \"y\" to continuesy\n",
      "Enter firt name \n",
      "Enter last name \n",
      "{'firt_name': [], 'last_name': [], 'firt_and_two_seq': [], 'id': []}\n",
      "[]\n",
      "{'firt_name': [''], 'last_name': [''], 'firt_and_two_seq': ['XXXXXX'], 'id': ['XXXXXX001']}\n",
      "firt name          last name          id \n",
      "\n",
      "\n",
      "                        XXXXXX001 \n",
      "\n",
      "Do you wants to Enter an other student\n",
      "\n",
      " \n",
      "tape \"n\" to exit or \"y\" to continuesy\n",
      "Enter firt name g\n",
      "Enter last name g\n",
      "{'firt_name': [''], 'last_name': [''], 'firt_and_two_seq': ['XXXXXX'], 'id': ['XXXXXX001']}\n",
      "['XXXXXX']\n",
      "{'firt_name': ['', 'g'], 'last_name': ['', 'g'], 'firt_and_two_seq': ['XXXXXX', 'GXXGXX'], 'id': ['XXXXXX001', 'GXXGXX001']}\n",
      "firt name          last name          id \n",
      "\n",
      "\n",
      "                        XXXXXX001 \n",
      "\n",
      "g            g            GXXGXX001 \n",
      "\n",
      "Do you wants to Enter an other student\n",
      "\n",
      " \n",
      "tape \"n\" to exit or \"y\" to continuesy\n"
     ]
    }
   ],
   "source": [
    "main()"
   ]
  },
  {
   "cell_type": "code",
   "execution_count": null,
   "metadata": {},
   "outputs": [],
   "source": []
  },
  {
   "cell_type": "code",
   "execution_count": null,
   "metadata": {},
   "outputs": [],
   "source": []
  },
  {
   "cell_type": "code",
   "execution_count": null,
   "metadata": {},
   "outputs": [],
   "source": []
  },
  {
   "cell_type": "code",
   "execution_count": null,
   "metadata": {},
   "outputs": [],
   "source": []
  },
  {
   "cell_type": "code",
   "execution_count": null,
   "metadata": {},
   "outputs": [],
   "source": []
  },
  {
   "cell_type": "code",
   "execution_count": null,
   "metadata": {},
   "outputs": [],
   "source": []
  },
  {
   "cell_type": "code",
   "execution_count": null,
   "metadata": {},
   "outputs": [],
   "source": []
  },
  {
   "cell_type": "code",
   "execution_count": null,
   "metadata": {},
   "outputs": [],
   "source": [
    "def input_name():\n",
    "    name_firt=input(\"Enter firt name \")\n",
    "    name_last=input(\"Enter last name \")\n",
    "    return name_firt,name_last"
   ]
  },
  {
   "cell_type": "code",
   "execution_count": null,
   "metadata": {},
   "outputs": [],
   "source": []
  },
  {
   "cell_type": "code",
   "execution_count": null,
   "metadata": {},
   "outputs": [],
   "source": [
    "scond_sequence('saliou')"
   ]
  },
  {
   "cell_type": "code",
   "execution_count": null,
   "metadata": {},
   "outputs": [],
   "source": [
    "firt_sequence('sauel')"
   ]
  },
  {
   "cell_type": "code",
   "execution_count": null,
   "metadata": {},
   "outputs": [],
   "source": [
    "def find(firt_and_two_seq):\n",
    "    liste= pickle.load( open( \"save.p\", \"rb\" ) )\n",
    "    return liste['id'].count(firt_and_two_seq)"
   ]
  },
  {
   "cell_type": "code",
   "execution_count": null,
   "metadata": {},
   "outputs": [],
   "source": [
    "find('smlola44')"
   ]
  },
  {
   "cell_type": "code",
   "execution_count": null,
   "metadata": {},
   "outputs": [],
   "source": [
    "def save(firt_name,last_name,firt_and_two_seq,identifiant):\n",
    "    pickle.dump( liste, open( \"save.p\", \"wb\" ) )\n",
    "    print(liste)\n",
    "    liste['firt_name'].append(firt_name)\n",
    "    liste['last_name'].append(last_name)\n",
    "    liste['firt_and_two_seq'].append(firt_and_two_seq)\n",
    "    liste['id'].append(identifiant)\n",
    "    print('firt name          last name          id \\n\\n')\n",
    "    for i in range(len(liste['firt_name'])):\n",
    "        print(liste['firt_name'][i],'          ',liste['last_name'][i],'          ',liste['id'][i],'\\n')\n",
    "\n"
   ]
  },
  {
   "cell_type": "code",
   "execution_count": null,
   "metadata": {},
   "outputs": [],
   "source": [
    "save('','','','')"
   ]
  },
  {
   "cell_type": "code",
   "execution_count": null,
   "metadata": {},
   "outputs": [],
   "source": [
    "display()"
   ]
  },
  {
   "cell_type": "code",
   "execution_count": null,
   "metadata": {},
   "outputs": [],
   "source": [
    "liste=['d','f','a','d']"
   ]
  },
  {
   "cell_type": "code",
   "execution_count": null,
   "metadata": {},
   "outputs": [],
   "source": [
    "liste.count('d')"
   ]
  },
  {
   "cell_type": "code",
   "execution_count": null,
   "metadata": {},
   "outputs": [],
   "source": [
    "'{:03}'.format(45)\n",
    "\n"
   ]
  },
  {
   "cell_type": "code",
   "execution_count": 17,
   "metadata": {},
   "outputs": [],
   "source": [
    "a=2/4\n",
    "a=4.5\n",
    "a=32\n",
    "a=\"bonjour\""
   ]
  },
  {
   "cell_type": "code",
   "execution_count": 23,
   "metadata": {},
   "outputs": [],
   "source": [
    "a=[2/4,4.5,32,\"bonjour\"]"
   ]
  },
  {
   "cell_type": "code",
   "execution_count": 25,
   "metadata": {},
   "outputs": [
    {
     "data": {
      "text/plain": [
       "'j'"
      ]
     },
     "execution_count": 25,
     "metadata": {},
     "output_type": "execute_result"
    }
   ],
   "source": [
    "a[3][3]"
   ]
  },
  {
   "cell_type": "code",
   "execution_count": 74,
   "metadata": {},
   "outputs": [],
   "source": [
    "tab=[[1,2,3],[2,3,4],[56,78,66]]"
   ]
  },
  {
   "cell_type": "code",
   "execution_count": 75,
   "metadata": {},
   "outputs": [
    {
     "data": {
      "text/plain": [
       "[[1, 2, 3], [2, 3, 4], [56, 78, 66]]"
      ]
     },
     "execution_count": 75,
     "metadata": {},
     "output_type": "execute_result"
    }
   ],
   "source": [
    "tab"
   ]
  },
  {
   "cell_type": "code",
   "execution_count": 28,
   "metadata": {},
   "outputs": [
    {
     "data": {
      "text/plain": [
       "4"
      ]
     },
     "execution_count": 28,
     "metadata": {},
     "output_type": "execute_result"
    }
   ],
   "source": [
    "tab[1][2]"
   ]
  },
  {
   "cell_type": "code",
   "execution_count": 64,
   "metadata": {},
   "outputs": [],
   "source": [
    "def find(firt_and_two_seq):\n",
    "    liste= pickle.load( open( \"save.p\", \"rb\" ) )\n",
    "    print(liste['firt_and_two_seq'])\n",
    "    return liste['firt_and_two_seq'].count(firt_and_two_seq)"
   ]
  },
  {
   "cell_type": "code",
   "execution_count": 65,
   "metadata": {},
   "outputs": [
    {
     "name": "stdout",
     "output_type": "stream",
     "text": [
      "[]\n"
     ]
    },
    {
     "data": {
      "text/plain": [
       "0"
      ]
     },
     "execution_count": 65,
     "metadata": {},
     "output_type": "execute_result"
    }
   ],
   "source": [
    "find('SLXFAL')"
   ]
  },
  {
   "cell_type": "code",
   "execution_count": 61,
   "metadata": {},
   "outputs": [
    {
     "data": {
      "text/plain": [
       "1"
      ]
     },
     "execution_count": 61,
     "metadata": {},
     "output_type": "execute_result"
    }
   ],
   "source": [
    "liste['firt_and_two_seq'].count('SLXFAL')"
   ]
  },
  {
   "cell_type": "code",
   "execution_count": 63,
   "metadata": {},
   "outputs": [
    {
     "ename": "NameError",
     "evalue": "name 'count' is not defined",
     "output_type": "error",
     "traceback": [
      "\u001b[0;31m---------------------------------------------------------------------------\u001b[0m",
      "\u001b[0;31mNameError\u001b[0m                                 Traceback (most recent call last)",
      "\u001b[0;32m<ipython-input-63-b761ab578ae7>\u001b[0m in \u001b[0;36m<module>\u001b[0;34m\u001b[0m\n\u001b[0;32m----> 1\u001b[0;31m \u001b[0mhelp\u001b[0m\u001b[0;34m(\u001b[0m\u001b[0mcount\u001b[0m\u001b[0;34m(\u001b[0m\u001b[0;34m)\u001b[0m\u001b[0;34m)\u001b[0m\u001b[0;34m\u001b[0m\u001b[0;34m\u001b[0m\u001b[0m\n\u001b[0m",
      "\u001b[0;31mNameError\u001b[0m: name 'count' is not defined"
     ]
    }
   ],
   "source": [
    "help(count())"
   ]
  },
  {
   "cell_type": "code",
   "execution_count": 6,
   "metadata": {},
   "outputs": [],
   "source": [
    "def firt_sequence(name):\n",
    "    consone='bcdfghjklmnpqrstvwxzBCDFGHJKLMNPQRSTVWXZ'\n",
    "    firt_seq=''\n",
    "    for i in name:\n",
    "         if len(firt_seq)<3:\n",
    "            if (i in consone) == True:\n",
    "                firt_seq+=i\n",
    "    if len(firt_seq)<3:\n",
    "        firt_seq+='x'*(3-len(firt_seq))\n",
    "    return firt_seq.upper()\n",
    "\n"
   ]
  },
  {
   "cell_type": "code",
   "execution_count": 10,
   "metadata": {},
   "outputs": [
    {
     "data": {
      "text/plain": [
       "'XXX'"
      ]
     },
     "execution_count": 10,
     "metadata": {},
     "output_type": "execute_result"
    }
   ],
   "source": [
    "firt_sequence('ooo,ooo')"
   ]
  },
  {
   "cell_type": "code",
   "execution_count": null,
   "metadata": {},
   "outputs": [],
   "source": []
  }
 ],
 "metadata": {
  "kernelspec": {
   "display_name": "Python 3",
   "language": "python",
   "name": "python3"
  }
 },
 "nbformat": 4,
 "nbformat_minor": 2
}
